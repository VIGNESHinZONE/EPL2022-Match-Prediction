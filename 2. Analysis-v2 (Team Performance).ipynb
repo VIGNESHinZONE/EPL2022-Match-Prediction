{
 "cells": [
  {
   "cell_type": "code",
   "execution_count": 1,
   "id": "fb65b91a-41be-42be-ad17-dcac61ca932c",
   "metadata": {},
   "outputs": [],
   "source": [
    "import pandas as pd\n",
    "import seaborn as sns\n",
    "import numpy as np\n",
    "import math\n",
    "from matplotlib import pyplot as plt\n"
   ]
  },
  {
   "cell_type": "code",
   "execution_count": 2,
   "id": "fdd792c1-cc7b-4b90-9b8e-658c965cb178",
   "metadata": {},
   "outputs": [
    {
     "name": "stdout",
     "output_type": "stream",
     "text": [
      "Shape of dataset (366, 106)\n"
     ]
    },
    {
     "data": {
      "text/html": [
       "<div>\n",
       "<style scoped>\n",
       "    .dataframe tbody tr th:only-of-type {\n",
       "        vertical-align: middle;\n",
       "    }\n",
       "\n",
       "    .dataframe tbody tr th {\n",
       "        vertical-align: top;\n",
       "    }\n",
       "\n",
       "    .dataframe thead th {\n",
       "        text-align: right;\n",
       "    }\n",
       "</style>\n",
       "<table border=\"1\" class=\"dataframe\">\n",
       "  <thead>\n",
       "    <tr style=\"text-align: right;\">\n",
       "      <th></th>\n",
       "      <th>Div</th>\n",
       "      <th>Date</th>\n",
       "      <th>Time</th>\n",
       "      <th>HomeTeam</th>\n",
       "      <th>AwayTeam</th>\n",
       "      <th>FTHG</th>\n",
       "      <th>FTAG</th>\n",
       "      <th>FTR</th>\n",
       "      <th>HTHG</th>\n",
       "      <th>HTAG</th>\n",
       "      <th>...</th>\n",
       "      <th>AvgC&lt;2.5</th>\n",
       "      <th>AHCh</th>\n",
       "      <th>B365CAHH</th>\n",
       "      <th>B365CAHA</th>\n",
       "      <th>PCAHH</th>\n",
       "      <th>PCAHA</th>\n",
       "      <th>MaxCAHH</th>\n",
       "      <th>MaxCAHA</th>\n",
       "      <th>AvgCAHH</th>\n",
       "      <th>AvgCAHA</th>\n",
       "    </tr>\n",
       "  </thead>\n",
       "  <tbody>\n",
       "    <tr>\n",
       "      <th>0</th>\n",
       "      <td>E0</td>\n",
       "      <td>13/08/2021</td>\n",
       "      <td>20:00</td>\n",
       "      <td>Brentford</td>\n",
       "      <td>Arsenal</td>\n",
       "      <td>2</td>\n",
       "      <td>0</td>\n",
       "      <td>H</td>\n",
       "      <td>1</td>\n",
       "      <td>0</td>\n",
       "      <td>...</td>\n",
       "      <td>1.62</td>\n",
       "      <td>0.50</td>\n",
       "      <td>1.75</td>\n",
       "      <td>2.05</td>\n",
       "      <td>1.81</td>\n",
       "      <td>2.13</td>\n",
       "      <td>2.05</td>\n",
       "      <td>2.17</td>\n",
       "      <td>1.80</td>\n",
       "      <td>2.09</td>\n",
       "    </tr>\n",
       "    <tr>\n",
       "      <th>1</th>\n",
       "      <td>E0</td>\n",
       "      <td>14/08/2021</td>\n",
       "      <td>12:30</td>\n",
       "      <td>Man United</td>\n",
       "      <td>Leeds</td>\n",
       "      <td>5</td>\n",
       "      <td>1</td>\n",
       "      <td>H</td>\n",
       "      <td>1</td>\n",
       "      <td>0</td>\n",
       "      <td>...</td>\n",
       "      <td>2.25</td>\n",
       "      <td>-1.00</td>\n",
       "      <td>2.05</td>\n",
       "      <td>1.75</td>\n",
       "      <td>2.17</td>\n",
       "      <td>1.77</td>\n",
       "      <td>2.19</td>\n",
       "      <td>1.93</td>\n",
       "      <td>2.10</td>\n",
       "      <td>1.79</td>\n",
       "    </tr>\n",
       "    <tr>\n",
       "      <th>2</th>\n",
       "      <td>E0</td>\n",
       "      <td>14/08/2021</td>\n",
       "      <td>15:00</td>\n",
       "      <td>Burnley</td>\n",
       "      <td>Brighton</td>\n",
       "      <td>1</td>\n",
       "      <td>2</td>\n",
       "      <td>A</td>\n",
       "      <td>1</td>\n",
       "      <td>0</td>\n",
       "      <td>...</td>\n",
       "      <td>1.62</td>\n",
       "      <td>0.25</td>\n",
       "      <td>1.79</td>\n",
       "      <td>2.15</td>\n",
       "      <td>1.81</td>\n",
       "      <td>2.14</td>\n",
       "      <td>1.82</td>\n",
       "      <td>2.19</td>\n",
       "      <td>1.79</td>\n",
       "      <td>2.12</td>\n",
       "    </tr>\n",
       "    <tr>\n",
       "      <th>3</th>\n",
       "      <td>E0</td>\n",
       "      <td>14/08/2021</td>\n",
       "      <td>15:00</td>\n",
       "      <td>Chelsea</td>\n",
       "      <td>Crystal Palace</td>\n",
       "      <td>3</td>\n",
       "      <td>0</td>\n",
       "      <td>H</td>\n",
       "      <td>2</td>\n",
       "      <td>0</td>\n",
       "      <td>...</td>\n",
       "      <td>1.94</td>\n",
       "      <td>-1.50</td>\n",
       "      <td>2.05</td>\n",
       "      <td>1.75</td>\n",
       "      <td>2.12</td>\n",
       "      <td>1.81</td>\n",
       "      <td>2.16</td>\n",
       "      <td>1.93</td>\n",
       "      <td>2.06</td>\n",
       "      <td>1.82</td>\n",
       "    </tr>\n",
       "    <tr>\n",
       "      <th>4</th>\n",
       "      <td>E0</td>\n",
       "      <td>14/08/2021</td>\n",
       "      <td>15:00</td>\n",
       "      <td>Everton</td>\n",
       "      <td>Southampton</td>\n",
       "      <td>3</td>\n",
       "      <td>1</td>\n",
       "      <td>H</td>\n",
       "      <td>0</td>\n",
       "      <td>1</td>\n",
       "      <td>...</td>\n",
       "      <td>1.67</td>\n",
       "      <td>-0.50</td>\n",
       "      <td>2.05</td>\n",
       "      <td>1.88</td>\n",
       "      <td>2.05</td>\n",
       "      <td>1.88</td>\n",
       "      <td>2.08</td>\n",
       "      <td>1.90</td>\n",
       "      <td>2.03</td>\n",
       "      <td>1.86</td>\n",
       "    </tr>\n",
       "  </tbody>\n",
       "</table>\n",
       "<p>5 rows × 106 columns</p>\n",
       "</div>"
      ],
      "text/plain": [
       "  Div        Date   Time    HomeTeam        AwayTeam  FTHG  FTAG FTR  HTHG  \\\n",
       "0  E0  13/08/2021  20:00   Brentford         Arsenal     2     0   H     1   \n",
       "1  E0  14/08/2021  12:30  Man United           Leeds     5     1   H     1   \n",
       "2  E0  14/08/2021  15:00     Burnley        Brighton     1     2   A     1   \n",
       "3  E0  14/08/2021  15:00     Chelsea  Crystal Palace     3     0   H     2   \n",
       "4  E0  14/08/2021  15:00     Everton     Southampton     3     1   H     0   \n",
       "\n",
       "   HTAG  ... AvgC<2.5  AHCh  B365CAHH  B365CAHA  PCAHH  PCAHA  MaxCAHH  \\\n",
       "0     0  ...     1.62  0.50      1.75      2.05   1.81   2.13     2.05   \n",
       "1     0  ...     2.25 -1.00      2.05      1.75   2.17   1.77     2.19   \n",
       "2     0  ...     1.62  0.25      1.79      2.15   1.81   2.14     1.82   \n",
       "3     0  ...     1.94 -1.50      2.05      1.75   2.12   1.81     2.16   \n",
       "4     1  ...     1.67 -0.50      2.05      1.88   2.05   1.88     2.08   \n",
       "\n",
       "   MaxCAHA  AvgCAHH  AvgCAHA  \n",
       "0     2.17     1.80     2.09  \n",
       "1     1.93     2.10     1.79  \n",
       "2     2.19     1.79     2.12  \n",
       "3     1.93     2.06     1.82  \n",
       "4     1.90     2.03     1.86  \n",
       "\n",
       "[5 rows x 106 columns]"
      ]
     },
     "execution_count": 2,
     "metadata": {},
     "output_type": "execute_result"
    }
   ],
   "source": [
    "df = pd.read_csv('E0.csv')\n",
    "print(f\"Shape of dataset {df.shape}\")\n",
    "df.head()\n"
   ]
  },
  {
   "cell_type": "markdown",
   "id": "f551b5f4-cd3c-4b38-91bf-1996f0ffe1a1",
   "metadata": {},
   "source": [
    "# Target Variable\n",
    "\n",
    "As per the goal of the project, we need to predict succesfully if the Away team can win or not."
   ]
  },
  {
   "cell_type": "code",
   "execution_count": 3,
   "id": "ecf7bf62-a3eb-4953-9036-a410363f0c36",
   "metadata": {},
   "outputs": [],
   "source": [
    "df['Result'] = (df['FTR'] == 'A').astype(int)"
   ]
  },
  {
   "cell_type": "markdown",
   "id": "61dbfebe-ecf3-4a77-9b85-c781fbf59ecd",
   "metadata": {},
   "source": [
    "## Converting to Standard Time format"
   ]
  },
  {
   "cell_type": "code",
   "execution_count": 4,
   "id": "1b74f622-851d-4706-831c-a362cc2833c9",
   "metadata": {},
   "outputs": [],
   "source": [
    "df['Datetime'] = df['Date'] + \" \" + df['Time']+\":00\"\n",
    "df['Datetime'] = pd.to_datetime(df['Datetime'], infer_datetime_format=True)\n",
    "min_date = df['Datetime'].min()\n",
    "df['Week No.'] = df['Datetime'].apply(lambda x: int((x - min_date).days / 7))"
   ]
  },
  {
   "cell_type": "markdown",
   "id": "1fa85069-0597-4810-9644-12ff535fea4e",
   "metadata": {},
   "source": [
    "# Generated Features\n",
    "\n",
    "The goal of the project is to predict the outcome of the game. We are not allowed to use facts about a given match after it has begun, but we can calculate the team's past track record and see how it influences the performance. Here are a list of things we will be calculating - \n",
    "\n",
    "1. Current Table Points earned before the start of the game for both the teams. We will use this to calculate Points Difference as a feature in ML Models.\n",
    "\n",
    "For example, Arsenal has 35 points and Burnley has 23 points at the end of Week 10. In week 11, during their clash, we will use the point difference to predict the results i.e. 12 points. \n",
    "\n",
    "2. **Strategy-1**, for calculating both teams' current form. 'Wins' & 'Loses' will be scored normally with +1 & -1 respectively. Teams playing Away should be given an advantage and also teams playing against Elite Teams like {'Man United', 'Chelsea', 'Tottenham', 'Liverpool', 'Man City', 'Arsenal'}. They are both given a +1 and +1 score.\n",
    "\n",
    "$Current Form 1 = \n",
    "\\begin{cases}\n",
    "  +1 & \\text{for a win}\\\\\n",
    "  +1 & \\text{for playing a elite opponent team}\\\\\n",
    "  +1 & \\text{for playing away}\\\\\n",
    "  +0 & \\text{for a draw}\\\\\n",
    "  -1 & \\text{for a defeat}\\\\\n",
    "\\end{cases}$\n",
    "\n",
    "3. **Strategy-2**, for calculating both teams' current form. Let's give a form score based on how goals it has scored against a team. But at the same time, extra weightage needs to be given if the win is Away. If the opposing team is very close on the table, that's considered a tougher competition and beating them would mean better form. Here is the logic for this formulation,\n",
    "\n",
    "      - if Man Utd Lose to Spurs 5-0 at home, it indicates very poor form and great form from Spurs,\n",
    "      - if Man Utd Defeat Aston 2-0 at home, it indicates decent form for Man Utd as its a home win and average weak form for Aston as its a Away Defeat.\n",
    "\n",
    "$Goal \\; difference = \n",
    "\\begin{cases}\n",
    "  +(Home Goal - Away Goal) & \\text{for a Home Playing Team}\\\\\n",
    "  +1.2(Away Goal - Home Goal) & \\text{for a Away Playing Team}\\\\\n",
    "\\end{cases}$\n",
    "\n",
    "$Point \\; difference = max(0, (Team \\; Table \\; Point - Opposing \\; Team \\; Table \\; Point))$\n",
    "\n",
    "$Point \\; weightage = \\frac{\\log(Team \\; Table \\; Point)}{1 + \\log (1 + Point \\; difference)}$\n",
    "\n",
    "$Current \\; Form 2 = Goal \\; difference * Point \\; weightage$\n",
    "\n",
    "The Reason for Choosing Denominator in Point Weightage -\n",
    "\n",
    "![log10.jpg](images/log10.png)\n"
   ]
  },
  {
   "cell_type": "code",
   "execution_count": 5,
   "id": "6d75f600-d3b4-4179-a458-d26b55d41234",
   "metadata": {},
   "outputs": [],
   "source": [
    "def build_ongoing_points_table(df, team_names, elite_teams):\n",
    "    Teams = df['HomeTeam'].unique().tolist()\n",
    "    curr_team_points = {team: 0 for team in team_names}\n",
    "    curr_team_form1 = {team: 1 for team in team_names}\n",
    "    curr_team_form2 = {team: 1 for team in team_names}\n",
    "    home_point, away_point = [], []\n",
    "    home_form1, away_form1 = [], []\n",
    "    home_form2, away_form2 = [], []\n",
    "    for index, row in df.iterrows():\n",
    "        home_point.append(curr_team_points[row['HomeTeam']])\n",
    "        away_point.append(curr_team_points[row['AwayTeam']])\n",
    "        home_form1.append(curr_team_form1[row['HomeTeam']])\n",
    "        away_form1.append(curr_team_form1[row['AwayTeam']])\n",
    "        home_form2.append(curr_team_form2[row['HomeTeam']])\n",
    "        away_form2.append(curr_team_form2[row['AwayTeam']])\n",
    "\n",
    "        home_score1 = 0\n",
    "        away_score1 = 0.5\n",
    "        home_score2 = (row['FTHG'] - row['FTAG']) \n",
    "        away_score2 = -1.2*home_score2\n",
    "        away_score2 = max(-1.5, away_score2)\n",
    "        \n",
    "        home_point2 = curr_team_points[row['HomeTeam']] \n",
    "        away_point2 = curr_team_points[row['AwayTeam']] \n",
    "        point_diff_home = home_point2 - away_point2\n",
    "        point_diff_away = -1 * point_diff_home \n",
    "        point_diff_home = max(0.001, point_diff_home)\n",
    "        point_diff_away = max(0.001, point_diff_away)\n",
    "        home_score2 *= (math.log(home_point2+3)/(1+math.log(point_diff_home+1, 10)))\n",
    "        away_score2 *= (math.log(away_point2+3)/(1+math.log(point_diff_away+1, 10)))\n",
    "        if row['FTR'] == 'H':\n",
    "            curr_team_points[row['HomeTeam']] += 3\n",
    "            home_score1 += 1\n",
    "            away_score1 -= 1\n",
    "        elif row['FTR'] == 'A':\n",
    "            curr_team_points[row['AwayTeam']] += 3\n",
    "            away_score1 += 1\n",
    "            home_score1 -= 1\n",
    "        else:\n",
    "            curr_team_points[row['HomeTeam']] += 1\n",
    "            curr_team_points[row['AwayTeam']] += 1\n",
    "        \n",
    "        if row['HomeTeam'] in elite_teams:\n",
    "            away_score1 += 0.5\n",
    "        if row['AwayTeam'] in elite_teams:\n",
    "            home_score1 += 0.5\n",
    "        \n",
    "        curr_team_form1[row['HomeTeam']] *= 0.75\n",
    "        curr_team_form1[row['HomeTeam']] += home_score1\n",
    "        curr_team_form1[row['AwayTeam']] *= 0.75\n",
    "        curr_team_form1[row['AwayTeam']] += away_score1\n",
    "\n",
    "        curr_team_form2[row['HomeTeam']] *= 0.75\n",
    "        curr_team_form2[row['HomeTeam']] += home_score2\n",
    "        curr_team_form2[row['AwayTeam']] *= 0.75\n",
    "        curr_team_form2[row['AwayTeam']] += away_score2\n",
    "    \n",
    "    df['HomePoint'] = home_point\n",
    "    df['AwayPoint'] = away_point\n",
    "    df['HomeForm1'] = home_form1\n",
    "    df['AwayForm1'] = away_form1\n",
    "    df['HomeForm2'] = home_form2\n",
    "    df['AwayForm2'] = away_form2\n",
    "    return df\n",
    "\n",
    "def find_optimal_threshold(df, feature_name):\n",
    "    mint, maxt = df[feature_name].min(), df[feature_name].max()\n",
    "    thres = np.linspace(int(mint), int(maxt), num=int(maxt) - int(mint)+1)\n",
    "    max_score = 0\n",
    "    max_t = None\n",
    "    for t in thres:\n",
    "        score_t = ((df[feature_name] > t).astype(int) == df['Result']).mean()\n",
    "        if score_t > max_score:\n",
    "            max_score = score_t\n",
    "            max_t = t\n",
    "    \n",
    "    print(f\"For {feature_name} at threshold {max_t}, we get accuracy {max_score}\")\n",
    "    return max_score, max_t\n"
   ]
  },
  {
   "cell_type": "markdown",
   "id": "3dca7cd7-6a5e-4278-8f28-3feb646b2bdf",
   "metadata": {
    "tags": []
   },
   "source": [
    "## Performance of our custom Formula and Baseline\n",
    "\n",
    "Lets extract, ongoing Points Table score & Custom team form value.\n",
    "Using this, we will also calculate the difference Points as `Point Diff` and Form difference as `Form Diff 1` & `Form Diff 2`.\n",
    "\n",
    "Lets use point difference, form difference as measure of building the baseline model. \n",
    "\n",
    "1. If $Away Team Table Points - Home Team Table Points > Threshold$, then 1 else 0\n",
    "2. If $Away Team Form score 1 - Home Team Form score 1 > Threshold$, then 1 else 0\n",
    "2. If $Away Team Form score 2 - Home Team Form score 2 > Threshold$, then 1 else 0\n",
    "\n",
    "We will be using the `find_optimal_threshold` function to determine the threshold"
   ]
  },
  {
   "cell_type": "code",
   "execution_count": 6,
   "id": "1d8d9f01-48af-46b7-9c96-db65cef003de",
   "metadata": {},
   "outputs": [],
   "source": [
    "elite_teams = [\n",
    "    'Man United', 'Chelsea', 'Tottenham', 'Liverpool', 'Man City', 'Arsenal'\n",
    "]\n",
    "Teams = df['HomeTeam'].unique().tolist()\n",
    "df = build_ongoing_points_table(df, Teams, elite_teams)\n",
    "df['Point Diff'] = df['AwayPoint'] - df['HomePoint']\n",
    "df['Form Diff 1'] = df['AwayForm1'] - df['HomeForm1']\n",
    "df['Form Diff 2'] = df['AwayForm2'] - df['HomeForm2']\n"
   ]
  },
  {
   "cell_type": "markdown",
   "id": "4e664471-13b5-4787-bc2e-7e9bb7ea68ab",
   "metadata": {
    "tags": []
   },
   "source": [
    "### Baseline using Point Difference"
   ]
  },
  {
   "cell_type": "code",
   "execution_count": 7,
   "id": "0b1546f1-3ab6-43cc-845f-476db9eb68b3",
   "metadata": {},
   "outputs": [
    {
     "name": "stdout",
     "output_type": "stream",
     "text": [
      "For Point Diff at threshold 14.0, we get accuracy 0.7049180327868853\n"
     ]
    }
   ],
   "source": [
    "point_diff_acc, point_diff_thres = find_optimal_threshold(df, 'Point Diff')\n"
   ]
  },
  {
   "cell_type": "markdown",
   "id": "778e27d3-4ec8-414a-a862-1d40448b23f6",
   "metadata": {},
   "source": [
    "### Baseline using Form Difference 1"
   ]
  },
  {
   "cell_type": "code",
   "execution_count": 8,
   "id": "de0a06a7-5b3f-431a-8213-5718215c2c52",
   "metadata": {},
   "outputs": [
    {
     "name": "stdout",
     "output_type": "stream",
     "text": [
      "For Form Diff 1 at threshold 2.0, we get accuracy 0.6967213114754098\n"
     ]
    }
   ],
   "source": [
    "form_diff_acc1, form_diff_thres1 = find_optimal_threshold(df, 'Form Diff 1')\n"
   ]
  },
  {
   "cell_type": "markdown",
   "id": "3d0aba12-4e94-4f92-9cd0-6adc14e68952",
   "metadata": {},
   "source": [
    "### Baseline using Form Difference 2"
   ]
  },
  {
   "cell_type": "code",
   "execution_count": 9,
   "id": "c5c3df75-7540-49ff-9ccd-b804d8d7a37d",
   "metadata": {},
   "outputs": [
    {
     "name": "stdout",
     "output_type": "stream",
     "text": [
      "For Form Diff 2 at threshold 9.0, we get accuracy 0.7049180327868853\n"
     ]
    }
   ],
   "source": [
    "form_diff_acc2, form_diff_thres2 = find_optimal_threshold(df, 'Form Diff 2')"
   ]
  },
  {
   "cell_type": "code",
   "execution_count": 10,
   "id": "3064adb5-41f8-429b-b00b-cacc3cfb2e5a",
   "metadata": {},
   "outputs": [
    {
     "name": "stdout",
     "output_type": "stream",
     "text": [
      "Accuracy from stratergy1 0.6010928961748634\n",
      "Accuracy from stratergy2 0.6229508196721312\n"
     ]
    }
   ],
   "source": [
    "elite_teams = [\n",
    "    'Man United', 'Chelsea', 'Tottenham', 'Liverpool', 'Man City', 'Arsenal'\n",
    "]\n",
    "Teams = df['HomeTeam'].unique().tolist()\n",
    "df = build_ongoing_points_table(df, Teams, elite_teams)\n",
    "df['predict1'] = (df['AwayForm1'] > df['HomeForm1']).astype(int)\n",
    "df['predict2'] = (df['AwayForm2'] > df['HomeForm2']).astype(int)\n",
    "df['match1'] = (df['predict1'] == df['Result']).astype(int)\n",
    "df['match2'] = (df['predict2'] == df['Result']).astype(int)\n",
    "df['diff1'] = df['AwayForm1'] - df['HomeForm1']\n",
    "df['diff2'] = df['AwayForm2'] - df['HomeForm2']\n",
    "\n",
    "Correct_df = df[df['match2'] == 1]\n",
    "Error_df = df[df['match2'] == 0]\n",
    "\n",
    "print(f\"Accuracy from stratergy1 {(df['match1']).mean()}\")\n",
    "print(f\"Accuracy from stratergy2 {(df['match2']).mean()}\")"
   ]
  },
  {
   "cell_type": "markdown",
   "id": "e427c323-6321-40a1-8845-2ae28530fd8e",
   "metadata": {},
   "source": [
    "---\n",
    "\n",
    "Let us find out occurrences where our custom form failed to give a good score. `Correct_df` is a Dataframe consisting of all the correctly classified instances. `Error_df` is Dataframe consisting of all the incorrectly classified instances.\n"
   ]
  },
  {
   "cell_type": "code",
   "execution_count": 11,
   "id": "3733d663-20a0-4636-abf3-0050893b1b3e",
   "metadata": {},
   "outputs": [],
   "source": [
    "df['predict point'] = (df['Point Diff'] > point_diff_thres).astype(int)\n",
    "df['predict form1'] = (df['Form Diff 1'] > form_diff_thres1).astype(int)\n",
    "df['predict form2'] = (df['Form Diff 2'] > form_diff_thres2).astype(int)\n",
    "\n",
    "\n",
    "df['match from points'] = (df['predict point'] == df['Result']).astype(int)\n",
    "df['match from form1'] = (df['predict form1'] == df['Result']).astype(int)\n",
    "df['match from form2'] = (df['predict form2'] == df['Result']).astype(int)\n",
    "\n",
    "# Correct_df = df[df['match2'] == 1]\n",
    "# Error_df = df[df['match2'] == 0]\n"
   ]
  },
  {
   "cell_type": "markdown",
   "id": "0239c953-c629-4aca-8849-c54da4657d13",
   "metadata": {},
   "source": [
    "### Error Analysis from Point Difference"
   ]
  },
  {
   "cell_type": "code",
   "execution_count": 12,
   "id": "52ce9943-c43b-4b7b-ae95-fec3b23a8c60",
   "metadata": {},
   "outputs": [
    {
     "name": "stdout",
     "output_type": "stream",
     "text": [
      "0    89\n",
      "1    19\n",
      "Name: predict point, dtype: int64\n"
     ]
    },
    {
     "data": {
      "image/png": "[encoded data removed]",
      "text/plain": [
       "<Figure size 720x360 with 1 Axes>"
      ]
     },
     "metadata": {
      "needs_background": "light"
     },
     "output_type": "display_data"
    }
   ],
   "source": [
    "Error_df = df[df['match from points'] == 0]\n",
    "print(Error_df['predict point'].value_counts())\n",
    "df[\"all\"] = \"\"\n",
    "plt.figure(figsize=(10,5))\n",
    "ax = sns.violinplot(x=\"all\", y=\"Point Diff\", hue=\"match from points\", data=df)\n",
    "ax.set_ylabel(\"Point Difference Distribution\")\n",
    "ax.set_xlabel(\"Incorretly Predicted and Correctly Predicted\")\n",
    "plt.show()"
   ]
  },
  {
   "cell_type": "markdown",
   "id": "e524f483-8eac-4954-bbba-84dbe3324635",
   "metadata": {},
   "source": [
    "### Error Analysis from Form Difference 1"
   ]
  },
  {
   "cell_type": "code",
   "execution_count": 13,
   "id": "efae8180-8c43-4928-b466-7cf8c8429fa4",
   "metadata": {},
   "outputs": [
    {
     "name": "stdout",
     "output_type": "stream",
     "text": [
      "0    87\n",
      "1    24\n",
      "Name: predict form1, dtype: int64\n"
     ]
    },
    {
     "data": {
      "image/png": "[encoded data removed]",
      "text/plain": [
       "<Figure size 720x360 with 1 Axes>"
      ]
     },
     "metadata": {
      "needs_background": "light"
     },
     "output_type": "display_data"
    }
   ],
   "source": [
    "Error_df = df[df['match from form1'] == 0]\n",
    "print(Error_df['predict form1'].value_counts())\n",
    "df[\"all\"] = \"\"\n",
    "plt.figure(figsize=(10,5))\n",
    "ax = sns.violinplot(x=\"all\", y=\"Form Diff 1\", hue=\"match from form1\", data=df)\n",
    "ax.set_ylabel(\"Form score 1 Difference Distribution\")\n",
    "ax.set_xlabel(\"Incorretly Predicted and Correctly Predicted\")\n",
    "plt.show()"
   ]
  },
  {
   "cell_type": "markdown",
   "id": "f6f486bd-bfe6-4fce-be8e-2583e72846dc",
   "metadata": {},
   "source": [
    "### Error Analysis from Form Difference 2"
   ]
  },
  {
   "cell_type": "code",
   "execution_count": 14,
   "id": "066b4d66-da60-4b77-9c59-11da6a655ec6",
   "metadata": {},
   "outputs": [
    {
     "name": "stdout",
     "output_type": "stream",
     "text": [
      "0    81\n",
      "1    27\n",
      "Name: predict form2, dtype: int64\n"
     ]
    },
    {
     "data": {
      "image/png": "[encoded data removed]",
      "text/plain": [
       "<Figure size 720x360 with 1 Axes>"
      ]
     },
     "metadata": {
      "needs_background": "light"
     },
     "output_type": "display_data"
    }
   ],
   "source": [
    "Error_df = df[df['match from form2'] == 0]\n",
    "print(Error_df['predict form2'].value_counts())\n",
    "df[\"all\"] = \"\"\n",
    "plt.figure(figsize=(10,5))\n",
    "ax = sns.violinplot(x=\"all\", y=\"Form Diff 2\", hue=\"match from form2\", data=df)\n",
    "ax.set_ylabel(\"Form score 2 Difference Distribution\")\n",
    "ax.set_xlabel(\"Incorretly Predicted and Correctly Predicted\")\n",
    "plt.show()"
   ]
  },
  {
   "cell_type": "code",
   "execution_count": 15,
   "id": "cc52a915-4609-4b9e-a0c1-045e50484aa8",
   "metadata": {},
   "outputs": [
    {
     "data": {
      "text/plain": [
       "Watford           18\n",
       "Liverpool         16\n",
       "Man City          15\n",
       "Arsenal           14\n",
       "Brentford         12\n",
       "Wolves            12\n",
       "Brighton          12\n",
       "Tottenham         12\n",
       "Chelsea           11\n",
       "Norwich           11\n",
       "Crystal Palace    11\n",
       "Man United        10\n",
       "Everton           10\n",
       "Leeds             10\n",
       "Aston Villa        9\n",
       "Leicester          9\n",
       "West Ham           9\n",
       "Newcastle          9\n",
       "Burnley            9\n",
       "Southampton        9\n",
       "Name: HomeTeam, dtype: int64"
      ]
     },
     "execution_count": 15,
     "metadata": {},
     "output_type": "execute_result"
    }
   ],
   "source": [
    "Correct_df['HomeTeam'].value_counts()"
   ]
  },
  {
   "cell_type": "code",
   "execution_count": 16,
   "id": "13d4274a-ea8e-40e0-9918-e5fc8920fc93",
   "metadata": {},
   "outputs": [
    {
     "data": {
      "text/plain": [
       "Chelsea           10\n",
       "Arsenal            8\n",
       "Aston Villa        8\n",
       "Man United         7\n",
       "Brighton           7\n",
       "West Ham           7\n",
       "Everton            6\n",
       "Wolves             6\n",
       "Liverpool          6\n",
       "Man City           6\n",
       "Tottenham          5\n",
       "Brentford          5\n",
       "Watford            5\n",
       "Crystal Palace     5\n",
       "Leeds              4\n",
       "Leicester          3\n",
       "Southampton        3\n",
       "Newcastle          3\n",
       "Norwich            2\n",
       "Burnley            2\n",
       "Name: AwayTeam, dtype: int64"
      ]
     },
     "execution_count": 16,
     "metadata": {},
     "output_type": "execute_result"
    }
   ],
   "source": [
    "Error_df['AwayTeam'].value_counts()"
   ]
  },
  {
   "cell_type": "markdown",
   "id": "ad406b63-8287-49b6-8169-f5640b3b35e1",
   "metadata": {},
   "source": [
    "---\n",
    "\n",
    "We have also plotted the accuracy of the model as progress through the weeks in the season,"
   ]
  },
  {
   "cell_type": "code",
   "execution_count": 17,
   "id": "796667db-77b7-4106-ad2f-6964b1b7cabc",
   "metadata": {},
   "outputs": [
    {
     "data": {
      "image/png": "[encoded data removed]",
      "text/plain": [
       "<Figure size 720x360 with 1 Axes>"
      ]
     },
     "metadata": {
      "needs_background": "light"
     },
     "output_type": "display_data"
    }
   ],
   "source": [
    "week_results = df.groupby(['Week No.'])['match from points'].mean().reset_index()\n",
    "plt.figure(figsize=(10,5))\n",
    "sns.set_theme(style=\"whitegrid\")\n",
    "ax = sns.barplot(x=\"Week No.\", y='match from points',data=week_results)\n",
    "plt.show()"
   ]
  },
  {
   "cell_type": "code",
   "execution_count": 18,
   "id": "32fb2eab-8a04-47df-a409-f9fbe8be5976",
   "metadata": {},
   "outputs": [
    {
     "data": {
      "image/png": "[encoded data removed]",
      "text/plain": [
       "<Figure size 720x360 with 1 Axes>"
      ]
     },
     "metadata": {},
     "output_type": "display_data"
    }
   ],
   "source": [
    "week_results = df.groupby(['Week No.'])['match from form2'].mean().reset_index()\n",
    "plt.figure(figsize=(10,5))\n",
    "sns.set_theme(style=\"whitegrid\")\n",
    "ax = sns.barplot(x=\"Week No.\", y='match from form2',data=week_results)\n",
    "plt.show()"
   ]
  },
  {
   "cell_type": "code",
   "execution_count": 19,
   "id": "6dc93154-05c6-40b7-8be2-99c2dfc80af2",
   "metadata": {},
   "outputs": [
    {
     "data": {
      "image/png": "[encoded data removed]",
      "text/plain": [
       "<Figure size 720x360 with 1 Axes>"
      ]
     },
     "metadata": {},
     "output_type": "display_data"
    }
   ],
   "source": [
    "week_results = df.groupby(['Week No.'])['match from form1'].mean().reset_index()\n",
    "plt.figure(figsize=(10,5))\n",
    "sns.set_theme(style=\"whitegrid\")\n",
    "ax = sns.barplot(x=\"Week No.\", y='match from form1',data=week_results)\n",
    "plt.show()"
   ]
  },
  {
   "cell_type": "code",
   "execution_count": null,
   "id": "e6d3c592-e37b-40d0-8cc5-bb513474dce0",
   "metadata": {},
   "outputs": [],
   "source": []
  }
 ],
 "metadata": {
  "kernelspec": {
   "display_name": "football",
   "language": "python",
   "name": "football"
  },
  "language_info": {
   "codemirror_mode": {
    "name": "ipython",
    "version": 3
   },
   "file_extension": ".py",
   "mimetype": "text/x-python",
   "name": "python",
   "nbconvert_exporter": "python",
   "pygments_lexer": "ipython3",
   "version": "3.8.10"
  }
 },
 "nbformat": 4,
 "nbformat_minor": 5
}
